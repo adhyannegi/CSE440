{
 "cells": [
  {
   "cell_type": "markdown",
   "metadata": {
    "state": "normal"
   },
   "source": [
    "# Introduction\n",
    "\n",
    "\n",
    "In this homework you will implement a simple binary perceptron and train it to perform simple classification. This task involves classifying tumors as malignant or benign (0 and 1 respectively) according to 30 different measurements. (While unnecessary for completing the project, you can dive into what each feature means here)."
   ]
  },
  {
   "cell_type": "code",
   "execution_count": null,
   "metadata": {
    "state": "normal"
   },
   "outputs": [],
   "source": []
  },
  {
   "cell_type": "markdown",
   "metadata": {
    "state": "normal"
   },
   "source": [
    "# Grading\n",
    "\n",
    "\n",
    "1. As long as your perceptron classifier (and the other classifiers you will use) achieves an at least 70% accuracy and runs in less than 3 minutes you will get full credit!\n",
    "2. No monkey business! Do not use sklearn or any off the shelf perceptron classifiers. Also, sending your code to someone else / asking for someone else for his code will get you an academic suspension.\n",
    "3. We have a solution with less than 12 lines of code that gets over 94% accuracy. Just to give you ad idea that this is not a complicated/long coding assignment. Just make sure to document your code.\n"
   ]
  },
  {
   "cell_type": "code",
   "execution_count": null,
   "metadata": {
    "state": "normal"
   },
   "outputs": [],
   "source": []
  },
  {
   "cell_type": "markdown",
   "metadata": {
    "state": "normal"
   },
   "source": [
    "# Procedure\n",
    "\n",
    "There are two phases for this project:\n",
    "1. getting and loading the dataset\n",
    "2. implementing, training and testing the perceptron.\n"
   ]
  },
  {
   "cell_type": "code",
   "execution_count": null,
   "metadata": {
    "state": "normal"
   },
   "outputs": [],
   "source": []
  },
  {
   "cell_type": "markdown",
   "metadata": {
    "state": "normal"
   },
   "source": [
    "# Template is not enfoced\n",
    "You do not have to follow this template. As far as you can provide the correct code with a reasonable accuracy, you will be fine."
   ]
  },
  {
   "cell_type": "code",
   "execution_count": null,
   "metadata": {
    "state": "normal"
   },
   "outputs": [],
   "source": []
  },
  {
   "cell_type": "markdown",
   "metadata": {
    "state": "normal"
   },
   "source": [
    "# Phase One: Packages, Data, and Setup\n",
    "\n",
    "\n",
    "The package sklearn is a popular machine learning library for python. In addition to implementations of many algorithms and tools for  statistical analysis this package also contains many small datasets of anything. Please note you will not use that library for the perceptron algorithm --that is your task to implement. But you can use it for loading data, etc. \n"
   ]
  },
  {
   "cell_type": "code",
   "execution_count": 33,
   "metadata": {
    "state": "normal"
   },
   "outputs": [],
   "source": [
    "import numpy as np\n",
    "import sklearn\n",
    "from sklearn import datasets\n",
    "from sklearn.metrics import confusion_matrix\n",
    "from sklearn.preprocessing import StandardScaler\n",
    "import matplotlib.pyplot as plt\n",
    "import matplotlib.ticker as ticker\n",
    "import random"
   ]
  },
  {
   "cell_type": "code",
   "execution_count": null,
   "metadata": {
    "state": "normal"
   },
   "outputs": [],
   "source": []
  },
  {
   "cell_type": "code",
   "execution_count": null,
   "metadata": {
    "state": "normal"
   },
   "outputs": [],
   "source": []
  },
  {
   "cell_type": "markdown",
   "metadata": {
    "state": "normal"
   },
   "source": [
    "Next we will import the data and split it to training and testing sets. The following lines load the UCI ML Breast Cancer Wisconsin (Diagnostic) Data Set. which contains 569 cases of tumors (each represented by 30 measurements). We split this data to 500 training cases and the rest for testing."
   ]
  },
  {
   "cell_type": "code",
   "execution_count": 38,
   "metadata": {
    "state": "normal"
   },
   "outputs": [],
   "source": [
    "# load the data set\n",
    "img,label=sklearn.datasets.load_breast_cancer(return_X_y=True)\n",
    "# split the data set\n",
    "TRAIN_SIZE = 511\n",
    "label = 2*label-1\n",
    "train_img,test_img = img[:TRAIN_SIZE], img[TRAIN_SIZE:]\n",
    "\n",
    "scaler = StandardScaler()\n",
    "train_img = scaler.fit_transform(train_img)\n",
    "test_img = scaler.transform(test_img)\n",
    "\n",
    "train_label,test_label = label[:TRAIN_SIZE], label[TRAIN_SIZE:]"
   ]
  },
  {
   "cell_type": "code",
   "execution_count": null,
   "metadata": {
    "state": "normal"
   },
   "outputs": [],
   "source": []
  },
  {
   "cell_type": "markdown",
   "metadata": {
    "state": "normal"
   },
   "source": [
    "# Phase Two: Perceptron Model"
   ]
  },
  {
   "cell_type": "code",
   "execution_count": 39,
   "metadata": {
    "state": "normal"
   },
   "outputs": [],
   "source": [
    "# Perceptron Class\n",
    "class Perceptron(object):\n",
    "    # Initialize the perceptron\n",
    "    def __init__(self, dim_input = 30, dim_out = 2, learning_rate = 1):\n",
    "        # model parameters \n",
    "        self.w = np.zeros(dim_input)\n",
    "        self.bias = 0.0\n",
    "        \n",
    "        # learning rate\n",
    "        self.learning_rate = learning_rate\n",
    "    \n",
    "    \n",
    "    def predict(self,input_array):\n",
    "        # See the \"Perceptron learning rule\" slides: w * x\n",
    "        \n",
    "        #\n",
    "        # Complete! Complete! Complete!\n",
    "        # Complete! Complete! Complete!\n",
    "        #\n",
    "        activation = np.dot(self.w, input_array) + self.bias\n",
    "        if activation >= 0:\n",
    "            return 1\n",
    "        else:\n",
    "            return -1\n",
    "            \n",
    "    def train(self, training_inputs, labels):\n",
    "        #\n",
    "        # Complete! Complete! Complete!\n",
    "        # Complete! Complete! Complete!\n",
    "        #\n",
    "        for input_array, label in zip(training_inputs, labels):\n",
    "            prediction = self.predict(input_array)\n",
    "            if prediction == label:\n",
    "                continue\n",
    "            else:\n",
    "                self.w += self.learning_rate * label * input_array\n",
    "                self.bias += self.learning_rate * label\n",
    "    \n",
    "    def test(self, testing_inputs, labels):\n",
    "        # number of correct predictions\n",
    "        count_correct = 0\n",
    "        # a list of the predicted labels the same order as the input \n",
    "        pred_list = []\n",
    "        for test_array, label in zip(testing_inputs,labels):\n",
    "            prediction = self.predict(test_array)\n",
    "            if prediction == label:\n",
    "                count_correct += 1\n",
    "            pred_list.append(prediction)\n",
    "        accuracy = float(count_correct)/len(test_label)\n",
    "        print('Accuracy is '+str(accuracy))\n",
    "        return np.asarray(pred_list)"
   ]
  },
  {
   "cell_type": "code",
   "execution_count": null,
   "metadata": {
    "state": "normal"
   },
   "outputs": [],
   "source": []
  },
  {
   "cell_type": "code",
   "execution_count": 40,
   "metadata": {
    "state": "normal"
   },
   "outputs": [],
   "source": [
    "# Number of epochs (iterations over the training set)\n",
    "NUM_EPOCH = 6"
   ]
  },
  {
   "cell_type": "code",
   "execution_count": null,
   "metadata": {
    "state": "normal"
   },
   "outputs": [],
   "source": []
  },
  {
   "cell_type": "code",
   "execution_count": null,
   "metadata": {
    "state": "normal"
   },
   "outputs": [],
   "source": []
  },
  {
   "cell_type": "code",
   "execution_count": 41,
   "metadata": {
    "state": "normal"
   },
   "outputs": [
    {
     "name": "stdout",
     "output_type": "stream",
     "text": [
      "6 epochs\n",
      "Accuracy is 0.9827586206896551\n"
     ]
    }
   ],
   "source": [
    "perceptron = Perceptron(learning_rate=0.5)\n",
    "for ii in range(NUM_EPOCH):\n",
    "    perceptron.train(train_img, train_label)\n",
    "print(str(NUM_EPOCH)+' epochs')\n",
    "pred_array = perceptron.test(test_img, test_label)"
   ]
  },
  {
   "cell_type": "code",
   "execution_count": null,
   "metadata": {
    "state": "normal"
   },
   "outputs": [],
   "source": []
  },
  {
   "cell_type": "code",
   "execution_count": null,
   "metadata": {
    "state": "normal"
   },
   "outputs": [],
   "source": []
  },
  {
   "cell_type": "code",
   "execution_count": null,
   "metadata": {
    "state": "normal"
   },
   "outputs": [],
   "source": []
  },
  {
   "cell_type": "code",
   "execution_count": null,
   "metadata": {},
   "outputs": [],
   "source": []
  },
  {
   "cell_type": "code",
   "execution_count": null,
   "metadata": {},
   "outputs": [],
   "source": []
  },
  {
   "cell_type": "code",
   "execution_count": null,
   "metadata": {},
   "outputs": [],
   "source": []
  },
  {
   "cell_type": "code",
   "execution_count": null,
   "metadata": {},
   "outputs": [],
   "source": []
  },
  {
   "cell_type": "code",
   "execution_count": null,
   "metadata": {},
   "outputs": [],
   "source": []
  }
 ],
 "metadata": {
  "kernelspec": {
   "display_name": "Python 3.11 (default)",
   "language": "python",
   "name": "python3"
  },
  "language_info": {
   "codemirror_mode": {
    "name": "ipython",
    "version": 3
   },
   "file_extension": ".py",
   "mimetype": "text/x-python",
   "name": "python",
   "nbconvert_exporter": "python",
   "pygments_lexer": "ipython3",
   "version": "3.11.6"
  },
  "mimir": {
   "data": {},
   "last_submission_id": "",
   "project_id": "c9e5aa19-d93c-4c82-bf77-22b19ffb2687"
  },
  "varInspector": {
   "cols": {
    "lenName": 16,
    "lenType": 16,
    "lenVar": 40
   },
   "kernels_config": {
    "python": {
     "delete_cmd_postfix": "",
     "delete_cmd_prefix": "del ",
     "library": "var_list.py",
     "varRefreshCmd": "print(var_dic_list())"
    },
    "r": {
     "delete_cmd_postfix": ") ",
     "delete_cmd_prefix": "rm(",
     "library": "var_list.r",
     "varRefreshCmd": "cat(var_dic_list()) "
    }
   },
   "types_to_exclude": [
    "module",
    "function",
    "builtin_function_or_method",
    "instance",
    "_Feature"
   ],
   "window_display": false
  }
 },
 "nbformat": 4,
 "nbformat_minor": 4
}
